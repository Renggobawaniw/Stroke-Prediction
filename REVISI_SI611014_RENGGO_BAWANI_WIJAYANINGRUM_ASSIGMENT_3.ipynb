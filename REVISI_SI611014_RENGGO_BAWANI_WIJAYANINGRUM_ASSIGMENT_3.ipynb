{
  "nbformat": 4,
  "nbformat_minor": 0,
  "metadata": {
    "colab": {
      "provenance": [],
      "collapsed_sections": [
        "AKuIa0WhStvx"
      ],
      "cell_execution_strategy": "setup",
      "include_colab_link": true
    },
    "kernelspec": {
      "name": "python3",
      "display_name": "Python 3"
    },
    "language_info": {
      "name": "python"
    }
  },
  "cells": [
    {
      "cell_type": "markdown",
      "metadata": {
        "id": "view-in-github",
        "colab_type": "text"
      },
      "source": [
        "<a href=\"https://colab.research.google.com/github/Renggobawaniw/Stroke-Prediction/blob/main/REVISI_SI611014_RENGGO_BAWANI_WIJAYANINGRUM_ASSIGMENT_3.ipynb\" target=\"_parent\"><img src=\"https://colab.research.google.com/assets/colab-badge.svg\" alt=\"Open In Colab\"/></a>"
      ]
    },
    {
      "cell_type": "markdown",
      "source": [
        "# **RENGGO BAWANI WIJAYANINGRUM**\n",
        "## **SI611014**\n",
        "## **Kelas SI6-11**\n",
        "## ** UNIVERSITAS MUHAMMADIYAH SURAKARTA\n",
        "\n",
        "---"
      ],
      "metadata": {
        "id": "AKuIa0WhStvx"
      }
    },
    {
      "cell_type": "markdown",
      "source": [
        "# DATASET\n",
        "## https://www.kaggle.com/datasets/fedesoriano/stroke-prediction-dataset\n",
        "\n",
        "---\n",
        "\n",
        "\n",
        "\n",
        "---\n",
        "\n"
      ],
      "metadata": {
        "id": "e4_KT9QHSzz7"
      }
    },
    {
      "cell_type": "markdown",
      "source": [
        "## PROBLEM\n",
        "According to the World Health Organization (WHO) stroke is the 2nd leading cause of death globally, responsible for approximately 11% of total deaths.\n",
        "This dataset is used to predict whether a patient is likely to get stroke based on the input parameters like gender, age, various diseases, and smoking status. Each row in the data provides relavant information about the patient."
      ],
      "metadata": {
        "id": "ETNkZDxcIGXt"
      }
    },
    {
      "cell_type": "markdown",
      "source": [
        "# Stroke Prediction\n"
      ],
      "metadata": {
        "id": "3qMOP6ATS4Tf"
      }
    },
    {
      "cell_type": "markdown",
      "source": [
        "# **1. Data Preparation**"
      ],
      "metadata": {
        "id": "bFhYqyAfS9h8"
      }
    },
    {
      "cell_type": "markdown",
      "source": [
        "##1.1 Mengimpor library yang **diperlukan**"
      ],
      "metadata": {
        "id": "MtCRXKx07sTG"
      }
    },
    {
      "cell_type": "code",
      "execution_count": null,
      "metadata": {
        "id": "h3WI_y7PPYzk"
      },
      "outputs": [],
      "source": [
        "import pandas as pd\n",
        "import matplotlib.pyplot as plt\n",
        "import seaborn as sns"
      ]
    },
    {
      "cell_type": "markdown",
      "source": [
        "##1.2 Membuat dan menampilkan dataframe"
      ],
      "metadata": {
        "id": "RXv9n_Rf8CcF"
      }
    },
    {
      "cell_type": "code",
      "source": [
        "df = pd.read_csv('/content/healthcare-dataset-stroke-data.csv')\n",
        "df"
      ],
      "metadata": {
        "colab": {
          "base_uri": "https://localhost:8080/",
          "height": 424
        },
        "id": "UhdFoi5T7-5d",
        "outputId": "5e40a95a-622b-476d-f891-0aecf3285aa4"
      },
      "execution_count": null,
      "outputs": [
        {
          "output_type": "execute_result",
          "data": {
            "text/plain": [
              "         id  gender   age  hypertension  heart_disease ever_married  \\\n",
              "0      9046    Male  67.0             0              1          Yes   \n",
              "1     51676  Female  61.0             0              0          Yes   \n",
              "2     31112    Male  80.0             0              1          Yes   \n",
              "3     60182  Female  49.0             0              0          Yes   \n",
              "4      1665  Female  79.0             1              0          Yes   \n",
              "...     ...     ...   ...           ...            ...          ...   \n",
              "5105  18234  Female  80.0             1              0          Yes   \n",
              "5106  44873  Female  81.0             0              0          Yes   \n",
              "5107  19723  Female  35.0             0              0          Yes   \n",
              "5108  37544    Male  51.0             0              0          Yes   \n",
              "5109  44679  Female  44.0             0              0          Yes   \n",
              "\n",
              "          work_type Residence_type  avg_glucose_level   bmi   smoking_status  \\\n",
              "0           Private          Urban             228.69  36.6  formerly smoked   \n",
              "1     Self-employed          Rural             202.21   NaN     never smoked   \n",
              "2           Private          Rural             105.92  32.5     never smoked   \n",
              "3           Private          Urban             171.23  34.4           smokes   \n",
              "4     Self-employed          Rural             174.12  24.0     never smoked   \n",
              "...             ...            ...                ...   ...              ...   \n",
              "5105        Private          Urban              83.75   NaN     never smoked   \n",
              "5106  Self-employed          Urban             125.20  40.0     never smoked   \n",
              "5107  Self-employed          Rural              82.99  30.6     never smoked   \n",
              "5108        Private          Rural             166.29  25.6  formerly smoked   \n",
              "5109       Govt_job          Urban              85.28  26.2          Unknown   \n",
              "\n",
              "      stroke  \n",
              "0          1  \n",
              "1          1  \n",
              "2          1  \n",
              "3          1  \n",
              "4          1  \n",
              "...      ...  \n",
              "5105       0  \n",
              "5106       0  \n",
              "5107       0  \n",
              "5108       0  \n",
              "5109       0  \n",
              "\n",
              "[5110 rows x 12 columns]"
            ],
            "text/html": [
              "\n",
              "  <div id=\"df-7226e950-74d4-498c-98a1-41712387ed6d\" class=\"colab-df-container\">\n",
              "    <div>\n",
              "<style scoped>\n",
              "    .dataframe tbody tr th:only-of-type {\n",
              "        vertical-align: middle;\n",
              "    }\n",
              "\n",
              "    .dataframe tbody tr th {\n",
              "        vertical-align: top;\n",
              "    }\n",
              "\n",
              "    .dataframe thead th {\n",
              "        text-align: right;\n",
              "    }\n",
              "</style>\n",
              "<table border=\"1\" class=\"dataframe\">\n",
              "  <thead>\n",
              "    <tr style=\"text-align: right;\">\n",
              "      <th></th>\n",
              "      <th>id</th>\n",
              "      <th>gender</th>\n",
              "      <th>age</th>\n",
              "      <th>hypertension</th>\n",
              "      <th>heart_disease</th>\n",
              "      <th>ever_married</th>\n",
              "      <th>work_type</th>\n",
              "      <th>Residence_type</th>\n",
              "      <th>avg_glucose_level</th>\n",
              "      <th>bmi</th>\n",
              "      <th>smoking_status</th>\n",
              "      <th>stroke</th>\n",
              "    </tr>\n",
              "  </thead>\n",
              "  <tbody>\n",
              "    <tr>\n",
              "      <th>0</th>\n",
              "      <td>9046</td>\n",
              "      <td>Male</td>\n",
              "      <td>67.0</td>\n",
              "      <td>0</td>\n",
              "      <td>1</td>\n",
              "      <td>Yes</td>\n",
              "      <td>Private</td>\n",
              "      <td>Urban</td>\n",
              "      <td>228.69</td>\n",
              "      <td>36.6</td>\n",
              "      <td>formerly smoked</td>\n",
              "      <td>1</td>\n",
              "    </tr>\n",
              "    <tr>\n",
              "      <th>1</th>\n",
              "      <td>51676</td>\n",
              "      <td>Female</td>\n",
              "      <td>61.0</td>\n",
              "      <td>0</td>\n",
              "      <td>0</td>\n",
              "      <td>Yes</td>\n",
              "      <td>Self-employed</td>\n",
              "      <td>Rural</td>\n",
              "      <td>202.21</td>\n",
              "      <td>NaN</td>\n",
              "      <td>never smoked</td>\n",
              "      <td>1</td>\n",
              "    </tr>\n",
              "    <tr>\n",
              "      <th>2</th>\n",
              "      <td>31112</td>\n",
              "      <td>Male</td>\n",
              "      <td>80.0</td>\n",
              "      <td>0</td>\n",
              "      <td>1</td>\n",
              "      <td>Yes</td>\n",
              "      <td>Private</td>\n",
              "      <td>Rural</td>\n",
              "      <td>105.92</td>\n",
              "      <td>32.5</td>\n",
              "      <td>never smoked</td>\n",
              "      <td>1</td>\n",
              "    </tr>\n",
              "    <tr>\n",
              "      <th>3</th>\n",
              "      <td>60182</td>\n",
              "      <td>Female</td>\n",
              "      <td>49.0</td>\n",
              "      <td>0</td>\n",
              "      <td>0</td>\n",
              "      <td>Yes</td>\n",
              "      <td>Private</td>\n",
              "      <td>Urban</td>\n",
              "      <td>171.23</td>\n",
              "      <td>34.4</td>\n",
              "      <td>smokes</td>\n",
              "      <td>1</td>\n",
              "    </tr>\n",
              "    <tr>\n",
              "      <th>4</th>\n",
              "      <td>1665</td>\n",
              "      <td>Female</td>\n",
              "      <td>79.0</td>\n",
              "      <td>1</td>\n",
              "      <td>0</td>\n",
              "      <td>Yes</td>\n",
              "      <td>Self-employed</td>\n",
              "      <td>Rural</td>\n",
              "      <td>174.12</td>\n",
              "      <td>24.0</td>\n",
              "      <td>never smoked</td>\n",
              "      <td>1</td>\n",
              "    </tr>\n",
              "    <tr>\n",
              "      <th>...</th>\n",
              "      <td>...</td>\n",
              "      <td>...</td>\n",
              "      <td>...</td>\n",
              "      <td>...</td>\n",
              "      <td>...</td>\n",
              "      <td>...</td>\n",
              "      <td>...</td>\n",
              "      <td>...</td>\n",
              "      <td>...</td>\n",
              "      <td>...</td>\n",
              "      <td>...</td>\n",
              "      <td>...</td>\n",
              "    </tr>\n",
              "    <tr>\n",
              "      <th>5105</th>\n",
              "      <td>18234</td>\n",
              "      <td>Female</td>\n",
              "      <td>80.0</td>\n",
              "      <td>1</td>\n",
              "      <td>0</td>\n",
              "      <td>Yes</td>\n",
              "      <td>Private</td>\n",
              "      <td>Urban</td>\n",
              "      <td>83.75</td>\n",
              "      <td>NaN</td>\n",
              "      <td>never smoked</td>\n",
              "      <td>0</td>\n",
              "    </tr>\n",
              "    <tr>\n",
              "      <th>5106</th>\n",
              "      <td>44873</td>\n",
              "      <td>Female</td>\n",
              "      <td>81.0</td>\n",
              "      <td>0</td>\n",
              "      <td>0</td>\n",
              "      <td>Yes</td>\n",
              "      <td>Self-employed</td>\n",
              "      <td>Urban</td>\n",
              "      <td>125.20</td>\n",
              "      <td>40.0</td>\n",
              "      <td>never smoked</td>\n",
              "      <td>0</td>\n",
              "    </tr>\n",
              "    <tr>\n",
              "      <th>5107</th>\n",
              "      <td>19723</td>\n",
              "      <td>Female</td>\n",
              "      <td>35.0</td>\n",
              "      <td>0</td>\n",
              "      <td>0</td>\n",
              "      <td>Yes</td>\n",
              "      <td>Self-employed</td>\n",
              "      <td>Rural</td>\n",
              "      <td>82.99</td>\n",
              "      <td>30.6</td>\n",
              "      <td>never smoked</td>\n",
              "      <td>0</td>\n",
              "    </tr>\n",
              "    <tr>\n",
              "      <th>5108</th>\n",
              "      <td>37544</td>\n",
              "      <td>Male</td>\n",
              "      <td>51.0</td>\n",
              "      <td>0</td>\n",
              "      <td>0</td>\n",
              "      <td>Yes</td>\n",
              "      <td>Private</td>\n",
              "      <td>Rural</td>\n",
              "      <td>166.29</td>\n",
              "      <td>25.6</td>\n",
              "      <td>formerly smoked</td>\n",
              "      <td>0</td>\n",
              "    </tr>\n",
              "    <tr>\n",
              "      <th>5109</th>\n",
              "      <td>44679</td>\n",
              "      <td>Female</td>\n",
              "      <td>44.0</td>\n",
              "      <td>0</td>\n",
              "      <td>0</td>\n",
              "      <td>Yes</td>\n",
              "      <td>Govt_job</td>\n",
              "      <td>Urban</td>\n",
              "      <td>85.28</td>\n",
              "      <td>26.2</td>\n",
              "      <td>Unknown</td>\n",
              "      <td>0</td>\n",
              "    </tr>\n",
              "  </tbody>\n",
              "</table>\n",
              "<p>5110 rows × 12 columns</p>\n",
              "</div>\n",
              "    <div class=\"colab-df-buttons\">\n",
              "\n",
              "  <div class=\"colab-df-container\">\n",
              "    <button class=\"colab-df-convert\" onclick=\"convertToInteractive('df-7226e950-74d4-498c-98a1-41712387ed6d')\"\n",
              "            title=\"Convert this dataframe to an interactive table.\"\n",
              "            style=\"display:none;\">\n",
              "\n",
              "  <svg xmlns=\"http://www.w3.org/2000/svg\" height=\"24px\" viewBox=\"0 -960 960 960\">\n",
              "    <path d=\"M120-120v-720h720v720H120Zm60-500h600v-160H180v160Zm220 220h160v-160H400v160Zm0 220h160v-160H400v160ZM180-400h160v-160H180v160Zm440 0h160v-160H620v160ZM180-180h160v-160H180v160Zm440 0h160v-160H620v160Z\"/>\n",
              "  </svg>\n",
              "    </button>\n",
              "\n",
              "  <style>\n",
              "    .colab-df-container {\n",
              "      display:flex;\n",
              "      gap: 12px;\n",
              "    }\n",
              "\n",
              "    .colab-df-convert {\n",
              "      background-color: #E8F0FE;\n",
              "      border: none;\n",
              "      border-radius: 50%;\n",
              "      cursor: pointer;\n",
              "      display: none;\n",
              "      fill: #1967D2;\n",
              "      height: 32px;\n",
              "      padding: 0 0 0 0;\n",
              "      width: 32px;\n",
              "    }\n",
              "\n",
              "    .colab-df-convert:hover {\n",
              "      background-color: #E2EBFA;\n",
              "      box-shadow: 0px 1px 2px rgba(60, 64, 67, 0.3), 0px 1px 3px 1px rgba(60, 64, 67, 0.15);\n",
              "      fill: #174EA6;\n",
              "    }\n",
              "\n",
              "    .colab-df-buttons div {\n",
              "      margin-bottom: 4px;\n",
              "    }\n",
              "\n",
              "    [theme=dark] .colab-df-convert {\n",
              "      background-color: #3B4455;\n",
              "      fill: #D2E3FC;\n",
              "    }\n",
              "\n",
              "    [theme=dark] .colab-df-convert:hover {\n",
              "      background-color: #434B5C;\n",
              "      box-shadow: 0px 1px 3px 1px rgba(0, 0, 0, 0.15);\n",
              "      filter: drop-shadow(0px 1px 2px rgba(0, 0, 0, 0.3));\n",
              "      fill: #FFFFFF;\n",
              "    }\n",
              "  </style>\n",
              "\n",
              "    <script>\n",
              "      const buttonEl =\n",
              "        document.querySelector('#df-7226e950-74d4-498c-98a1-41712387ed6d button.colab-df-convert');\n",
              "      buttonEl.style.display =\n",
              "        google.colab.kernel.accessAllowed ? 'block' : 'none';\n",
              "\n",
              "      async function convertToInteractive(key) {\n",
              "        const element = document.querySelector('#df-7226e950-74d4-498c-98a1-41712387ed6d');\n",
              "        const dataTable =\n",
              "          await google.colab.kernel.invokeFunction('convertToInteractive',\n",
              "                                                    [key], {});\n",
              "        if (!dataTable) return;\n",
              "\n",
              "        const docLinkHtml = 'Like what you see? Visit the ' +\n",
              "          '<a target=\"_blank\" href=https://colab.research.google.com/notebooks/data_table.ipynb>data table notebook</a>'\n",
              "          + ' to learn more about interactive tables.';\n",
              "        element.innerHTML = '';\n",
              "        dataTable['output_type'] = 'display_data';\n",
              "        await google.colab.output.renderOutput(dataTable, element);\n",
              "        const docLink = document.createElement('div');\n",
              "        docLink.innerHTML = docLinkHtml;\n",
              "        element.appendChild(docLink);\n",
              "      }\n",
              "    </script>\n",
              "  </div>\n",
              "\n",
              "\n",
              "<div id=\"df-3c972312-2553-40be-82c0-9bac40173d5e\">\n",
              "  <button class=\"colab-df-quickchart\" onclick=\"quickchart('df-3c972312-2553-40be-82c0-9bac40173d5e')\"\n",
              "            title=\"Suggest charts\"\n",
              "            style=\"display:none;\">\n",
              "\n",
              "<svg xmlns=\"http://www.w3.org/2000/svg\" height=\"24px\"viewBox=\"0 0 24 24\"\n",
              "     width=\"24px\">\n",
              "    <g>\n",
              "        <path d=\"M19 3H5c-1.1 0-2 .9-2 2v14c0 1.1.9 2 2 2h14c1.1 0 2-.9 2-2V5c0-1.1-.9-2-2-2zM9 17H7v-7h2v7zm4 0h-2V7h2v10zm4 0h-2v-4h2v4z\"/>\n",
              "    </g>\n",
              "</svg>\n",
              "  </button>\n",
              "\n",
              "<style>\n",
              "  .colab-df-quickchart {\n",
              "      --bg-color: #E8F0FE;\n",
              "      --fill-color: #1967D2;\n",
              "      --hover-bg-color: #E2EBFA;\n",
              "      --hover-fill-color: #174EA6;\n",
              "      --disabled-fill-color: #AAA;\n",
              "      --disabled-bg-color: #DDD;\n",
              "  }\n",
              "\n",
              "  [theme=dark] .colab-df-quickchart {\n",
              "      --bg-color: #3B4455;\n",
              "      --fill-color: #D2E3FC;\n",
              "      --hover-bg-color: #434B5C;\n",
              "      --hover-fill-color: #FFFFFF;\n",
              "      --disabled-bg-color: #3B4455;\n",
              "      --disabled-fill-color: #666;\n",
              "  }\n",
              "\n",
              "  .colab-df-quickchart {\n",
              "    background-color: var(--bg-color);\n",
              "    border: none;\n",
              "    border-radius: 50%;\n",
              "    cursor: pointer;\n",
              "    display: none;\n",
              "    fill: var(--fill-color);\n",
              "    height: 32px;\n",
              "    padding: 0;\n",
              "    width: 32px;\n",
              "  }\n",
              "\n",
              "  .colab-df-quickchart:hover {\n",
              "    background-color: var(--hover-bg-color);\n",
              "    box-shadow: 0 1px 2px rgba(60, 64, 67, 0.3), 0 1px 3px 1px rgba(60, 64, 67, 0.15);\n",
              "    fill: var(--button-hover-fill-color);\n",
              "  }\n",
              "\n",
              "  .colab-df-quickchart-complete:disabled,\n",
              "  .colab-df-quickchart-complete:disabled:hover {\n",
              "    background-color: var(--disabled-bg-color);\n",
              "    fill: var(--disabled-fill-color);\n",
              "    box-shadow: none;\n",
              "  }\n",
              "\n",
              "  .colab-df-spinner {\n",
              "    border: 2px solid var(--fill-color);\n",
              "    border-color: transparent;\n",
              "    border-bottom-color: var(--fill-color);\n",
              "    animation:\n",
              "      spin 1s steps(1) infinite;\n",
              "  }\n",
              "\n",
              "  @keyframes spin {\n",
              "    0% {\n",
              "      border-color: transparent;\n",
              "      border-bottom-color: var(--fill-color);\n",
              "      border-left-color: var(--fill-color);\n",
              "    }\n",
              "    20% {\n",
              "      border-color: transparent;\n",
              "      border-left-color: var(--fill-color);\n",
              "      border-top-color: var(--fill-color);\n",
              "    }\n",
              "    30% {\n",
              "      border-color: transparent;\n",
              "      border-left-color: var(--fill-color);\n",
              "      border-top-color: var(--fill-color);\n",
              "      border-right-color: var(--fill-color);\n",
              "    }\n",
              "    40% {\n",
              "      border-color: transparent;\n",
              "      border-right-color: var(--fill-color);\n",
              "      border-top-color: var(--fill-color);\n",
              "    }\n",
              "    60% {\n",
              "      border-color: transparent;\n",
              "      border-right-color: var(--fill-color);\n",
              "    }\n",
              "    80% {\n",
              "      border-color: transparent;\n",
              "      border-right-color: var(--fill-color);\n",
              "      border-bottom-color: var(--fill-color);\n",
              "    }\n",
              "    90% {\n",
              "      border-color: transparent;\n",
              "      border-bottom-color: var(--fill-color);\n",
              "    }\n",
              "  }\n",
              "</style>\n",
              "\n",
              "  <script>\n",
              "    async function quickchart(key) {\n",
              "      const quickchartButtonEl =\n",
              "        document.querySelector('#' + key + ' button');\n",
              "      quickchartButtonEl.disabled = true;  // To prevent multiple clicks.\n",
              "      quickchartButtonEl.classList.add('colab-df-spinner');\n",
              "      try {\n",
              "        const charts = await google.colab.kernel.invokeFunction(\n",
              "            'suggestCharts', [key], {});\n",
              "      } catch (error) {\n",
              "        console.error('Error during call to suggestCharts:', error);\n",
              "      }\n",
              "      quickchartButtonEl.classList.remove('colab-df-spinner');\n",
              "      quickchartButtonEl.classList.add('colab-df-quickchart-complete');\n",
              "    }\n",
              "    (() => {\n",
              "      let quickchartButtonEl =\n",
              "        document.querySelector('#df-3c972312-2553-40be-82c0-9bac40173d5e button');\n",
              "      quickchartButtonEl.style.display =\n",
              "        google.colab.kernel.accessAllowed ? 'block' : 'none';\n",
              "    })();\n",
              "  </script>\n",
              "</div>\n",
              "    </div>\n",
              "  </div>\n"
            ],
            "application/vnd.google.colaboratory.intrinsic+json": {
              "type": "dataframe",
              "variable_name": "df",
              "summary": "{\n  \"name\": \"df\",\n  \"rows\": 5110,\n  \"fields\": [\n    {\n      \"column\": \"id\",\n      \"properties\": {\n        \"dtype\": \"number\",\n        \"std\": 21161,\n        \"min\": 67,\n        \"max\": 72940,\n        \"num_unique_values\": 5110,\n        \"samples\": [\n          40041,\n          55244,\n          70992\n        ],\n        \"semantic_type\": \"\",\n        \"description\": \"\"\n      }\n    },\n    {\n      \"column\": \"gender\",\n      \"properties\": {\n        \"dtype\": \"category\",\n        \"num_unique_values\": 3,\n        \"samples\": [\n          \"Male\",\n          \"Female\",\n          \"Other\"\n        ],\n        \"semantic_type\": \"\",\n        \"description\": \"\"\n      }\n    },\n    {\n      \"column\": \"age\",\n      \"properties\": {\n        \"dtype\": \"number\",\n        \"std\": 22.61264672311349,\n        \"min\": 0.08,\n        \"max\": 82.0,\n        \"num_unique_values\": 104,\n        \"samples\": [\n          45.0,\n          24.0,\n          33.0\n        ],\n        \"semantic_type\": \"\",\n        \"description\": \"\"\n      }\n    },\n    {\n      \"column\": \"hypertension\",\n      \"properties\": {\n        \"dtype\": \"number\",\n        \"std\": 0,\n        \"min\": 0,\n        \"max\": 1,\n        \"num_unique_values\": 2,\n        \"samples\": [\n          1,\n          0\n        ],\n        \"semantic_type\": \"\",\n        \"description\": \"\"\n      }\n    },\n    {\n      \"column\": \"heart_disease\",\n      \"properties\": {\n        \"dtype\": \"number\",\n        \"std\": 0,\n        \"min\": 0,\n        \"max\": 1,\n        \"num_unique_values\": 2,\n        \"samples\": [\n          0,\n          1\n        ],\n        \"semantic_type\": \"\",\n        \"description\": \"\"\n      }\n    },\n    {\n      \"column\": \"ever_married\",\n      \"properties\": {\n        \"dtype\": \"category\",\n        \"num_unique_values\": 2,\n        \"samples\": [\n          \"No\",\n          \"Yes\"\n        ],\n        \"semantic_type\": \"\",\n        \"description\": \"\"\n      }\n    },\n    {\n      \"column\": \"work_type\",\n      \"properties\": {\n        \"dtype\": \"category\",\n        \"num_unique_values\": 5,\n        \"samples\": [\n          \"Self-employed\",\n          \"Never_worked\"\n        ],\n        \"semantic_type\": \"\",\n        \"description\": \"\"\n      }\n    },\n    {\n      \"column\": \"Residence_type\",\n      \"properties\": {\n        \"dtype\": \"category\",\n        \"num_unique_values\": 2,\n        \"samples\": [\n          \"Rural\",\n          \"Urban\"\n        ],\n        \"semantic_type\": \"\",\n        \"description\": \"\"\n      }\n    },\n    {\n      \"column\": \"avg_glucose_level\",\n      \"properties\": {\n        \"dtype\": \"number\",\n        \"std\": 45.28356015058198,\n        \"min\": 55.12,\n        \"max\": 271.74,\n        \"num_unique_values\": 3979,\n        \"samples\": [\n          178.29,\n          156.69\n        ],\n        \"semantic_type\": \"\",\n        \"description\": \"\"\n      }\n    },\n    {\n      \"column\": \"bmi\",\n      \"properties\": {\n        \"dtype\": \"number\",\n        \"std\": 7.854066729680164,\n        \"min\": 10.3,\n        \"max\": 97.6,\n        \"num_unique_values\": 418,\n        \"samples\": [\n          49.5,\n          18.5\n        ],\n        \"semantic_type\": \"\",\n        \"description\": \"\"\n      }\n    },\n    {\n      \"column\": \"smoking_status\",\n      \"properties\": {\n        \"dtype\": \"category\",\n        \"num_unique_values\": 4,\n        \"samples\": [\n          \"never smoked\",\n          \"Unknown\"\n        ],\n        \"semantic_type\": \"\",\n        \"description\": \"\"\n      }\n    },\n    {\n      \"column\": \"stroke\",\n      \"properties\": {\n        \"dtype\": \"number\",\n        \"std\": 0,\n        \"min\": 0,\n        \"max\": 1,\n        \"num_unique_values\": 2,\n        \"samples\": [\n          0,\n          1\n        ],\n        \"semantic_type\": \"\",\n        \"description\": \"\"\n      }\n    }\n  ]\n}"
            }
          },
          "metadata": {},
          "execution_count": 42
        }
      ]
    },
    {
      "cell_type": "markdown",
      "source": [
        "##1.3 Mengecek data informasi pada dataset"
      ],
      "metadata": {
        "id": "orjjB2GT8SaU"
      }
    },
    {
      "cell_type": "code",
      "source": [
        "df.info()"
      ],
      "metadata": {
        "colab": {
          "base_uri": "https://localhost:8080/"
        },
        "id": "ABFR6q3FTVmL",
        "outputId": "f328c0a5-8f15-4923-fbde-0017c639700f"
      },
      "execution_count": null,
      "outputs": [
        {
          "output_type": "stream",
          "name": "stdout",
          "text": [
            "<class 'pandas.core.frame.DataFrame'>\n",
            "RangeIndex: 5110 entries, 0 to 5109\n",
            "Data columns (total 12 columns):\n",
            " #   Column             Non-Null Count  Dtype  \n",
            "---  ------             --------------  -----  \n",
            " 0   id                 5110 non-null   int64  \n",
            " 1   gender             5110 non-null   object \n",
            " 2   age                5110 non-null   float64\n",
            " 3   hypertension       5110 non-null   int64  \n",
            " 4   heart_disease      5110 non-null   int64  \n",
            " 5   ever_married       5110 non-null   object \n",
            " 6   work_type          5110 non-null   object \n",
            " 7   Residence_type     5110 non-null   object \n",
            " 8   avg_glucose_level  5110 non-null   float64\n",
            " 9   bmi                4909 non-null   float64\n",
            " 10  smoking_status     5110 non-null   object \n",
            " 11  stroke             5110 non-null   int64  \n",
            "dtypes: float64(3), int64(4), object(5)\n",
            "memory usage: 479.2+ KB\n"
          ]
        }
      ]
    },
    {
      "cell_type": "markdown",
      "source": [
        "##1.4 Memeriksa data jika ada yang Missing Value"
      ],
      "metadata": {
        "id": "cSf2oSO08doK"
      }
    },
    {
      "cell_type": "code",
      "source": [
        "missing_values = df.isnull().sum()\n",
        "print(\"Jumlah Missing Value per Fitur:\\n\", missing_values)\n"
      ],
      "metadata": {
        "colab": {
          "base_uri": "https://localhost:8080/"
        },
        "id": "UQa-o0GVUBTO",
        "outputId": "1ac3fd98-7d2d-42c7-912c-6821e9b44ad5"
      },
      "execution_count": null,
      "outputs": [
        {
          "output_type": "stream",
          "name": "stdout",
          "text": [
            "Jumlah Missing Value per Fitur:\n",
            " id                     0\n",
            "gender                 0\n",
            "age                    0\n",
            "hypertension           0\n",
            "heart_disease          0\n",
            "ever_married           0\n",
            "work_type              0\n",
            "Residence_type         0\n",
            "avg_glucose_level      0\n",
            "bmi                  201\n",
            "smoking_status         0\n",
            "stroke                 0\n",
            "dtype: int64\n"
          ]
        }
      ]
    },
    {
      "cell_type": "markdown",
      "source": [
        "pada penejalasan diatas kita tahu bawa terdapat missing value yaitu bmi untuk mengukur berat badan manusia untuk mengetahui apakh merupakan terdeteksi penyakit stroke"
      ],
      "metadata": {
        "id": "as9_8_kdNewN"
      }
    },
    {
      "cell_type": "markdown",
      "source": [
        "##1.5 Mengatasi Missing Value"
      ],
      "metadata": {
        "id": "4HHGS0Qv8sSJ"
      }
    },
    {
      "cell_type": "code",
      "source": [
        "# Mengganti nilai yang hilang pada kolom 'bmi' dengan nilai rata-rata\n",
        "mean_bmi = df['bmi'].mean()\n",
        "df['bmi'].fillna(mean_bmi, inplace=True)\n",
        "\n",
        "# Menampilkan jumlah missing value setelah penanganan\n",
        "missing_values_after = df.isnull().sum()\n",
        "print(\"\\nJumlah Missing Value setelah Penanganan:\\n\", missing_values_after)\n"
      ],
      "metadata": {
        "colab": {
          "base_uri": "https://localhost:8080/"
        },
        "id": "z4RKrwiUUFEt",
        "outputId": "76e0a335-17a6-4db5-ae37-c6a1f61a22ad"
      },
      "execution_count": null,
      "outputs": [
        {
          "output_type": "stream",
          "name": "stdout",
          "text": [
            "\n",
            "Jumlah Missing Value setelah Penanganan:\n",
            " id                   0\n",
            "gender               0\n",
            "age                  0\n",
            "hypertension         0\n",
            "heart_disease        0\n",
            "ever_married         0\n",
            "work_type            0\n",
            "Residence_type       0\n",
            "avg_glucose_level    0\n",
            "bmi                  0\n",
            "smoking_status       0\n",
            "stroke               0\n",
            "dtype: int64\n"
          ]
        }
      ]
    },
    {
      "cell_type": "markdown",
      "source": [
        "setelah semua data sudah dihapus yang terdapat mising valuenya nilainya nol semua,jadi sama"
      ],
      "metadata": {
        "id": "lynAIMJyNv0r"
      }
    },
    {
      "cell_type": "markdown",
      "source": [
        "##2. Data Exploring/Exploratory Data Analysis (EDA)"
      ],
      "metadata": {
        "id": "fPCGDFdfUajD"
      }
    },
    {
      "cell_type": "markdown",
      "source": [
        "###2.1 Visualize Fitur Target"
      ],
      "metadata": {
        "id": "K4p6G8b1Ulgb"
      }
    },
    {
      "cell_type": "code",
      "source": [
        "# Visualisasi Fitur Target (Stroke)\n",
        "plt.figure(figsize=(6, 4))\n",
        "sns.countplot(data=df, x='stroke')\n",
        "plt.title('Distribusi Fitur Target (Stroke)')\n",
        "plt.xlabel('Stroke')\n",
        "plt.ylabel('Jumlah')\n",
        "plt.show()\n"
      ],
      "metadata": {
        "colab": {
          "base_uri": "https://localhost:8080/",
          "height": 410
        },
        "id": "EpfXaO47Q66J",
        "outputId": "ff5bf85f-9c20-4d0c-ce4c-ff8efdf6d4e1"
      },
      "execution_count": null,
      "outputs": [
        {
          "output_type": "display_data",
          "data": {
            "text/plain": [
              "<Figure size 600x400 with 1 Axes>"
            ],
            "image/png": "[encoded data removed]"
          },
          "metadata": {}
        }
      ]
    },
    {
      "cell_type": "markdown",
      "source": [
        "###2.2 Exploring The Data"
      ],
      "metadata": {
        "id": "8GpxT2keUn0i"
      }
    },
    {
      "cell_type": "code",
      "source": [
        "# Menghapus kolom non-numerik sebelum menghitung korelasi\n",
        "numeric_df = df.select_dtypes(include=['float64', 'int64'])"
      ],
      "metadata": {
        "id": "YQLnIHHWRwzw"
      },
      "execution_count": null,
      "outputs": []
    },
    {
      "cell_type": "code",
      "source": [
        "# Visualisasi Distribusi Fitur Numerik\n",
        "plt.figure(figsize=(12, 4))\n",
        "plt.subplot(1, 3, 1)\n",
        "sns.histplot(numeric_df['age'], bins=30, kde=True)\n",
        "plt.title('Distribusi Usia')\n",
        "plt.xlabel('Usia')\n",
        "plt.ylabel('Frekuensi')"
      ],
      "metadata": {
        "colab": {
          "base_uri": "https://localhost:8080/",
          "height": 427
        },
        "id": "A8XiAdg6VZiH",
        "outputId": "236a6caa-fbae-4ebd-ba4f-e3145186c5ff"
      },
      "execution_count": null,
      "outputs": [
        {
          "output_type": "execute_result",
          "data": {
            "text/plain": [
              "Text(0, 0.5, 'Frekuensi')"
            ]
          },
          "metadata": {},
          "execution_count": 48
        },
        {
          "output_type": "display_data",
          "data": {
            "text/plain": [
              "<Figure size 1200x400 with 1 Axes>"
            ],
            "image/png": "[encoded data removed]"
          },
          "metadata": {}
        }
      ]
    },
    {
      "cell_type": "markdown",
      "source": [
        "Melalui histogram, kita dapat melihat pola distribusi usia pasien dalam dataset, apakah usia cenderung terpusat di sekitar nilai tertentu atau tersebar secara merata."
      ],
      "metadata": {
        "id": "dXhKAZixVgp6"
      }
    },
    {
      "cell_type": "code",
      "source": [
        "plt.subplot(1, 3, 2)\n",
        "sns.histplot(numeric_df['avg_glucose_level'], bins=30, kde=True)\n",
        "plt.title('Distribusi Tingkat Glukosa Rata-rata')\n",
        "plt.xlabel('Tingkat Glukosa Rata-rata')\n",
        "plt.ylabel('Frekuensi')"
      ],
      "metadata": {
        "colab": {
          "base_uri": "https://localhost:8080/",
          "height": 489
        },
        "id": "d27KzeyjVdk-",
        "outputId": "aafc9662-836e-4815-9e06-68a1eaa5664f"
      },
      "execution_count": null,
      "outputs": [
        {
          "output_type": "execute_result",
          "data": {
            "text/plain": [
              "Text(0, 0.5, 'Frekuensi')"
            ]
          },
          "metadata": {},
          "execution_count": 49
        },
        {
          "output_type": "display_data",
          "data": {
            "text/plain": [
              "<Figure size 640x480 with 1 Axes>"
            ],
            "image/png": "[encoded data removed]"
          },
          "metadata": {}
        }
      ]
    },
    {
      "cell_type": "markdown",
      "source": [
        "Grafik ini membantu kita memahami sebaran nilai tingkat glukosa dalam populasi, apakah ada pola tertentu yang muncul dalam distribusi tingkat glukosa.\n"
      ],
      "metadata": {
        "id": "B3Zdl4fnVsix"
      }
    },
    {
      "cell_type": "code",
      "source": [
        "plt.subplot(1, 3, 3)\n",
        "sns.histplot(numeric_df['bmi'], bins=30, kde=True)\n",
        "plt.title('Distribusi BMI')\n",
        "plt.xlabel('BMI')\n",
        "plt.ylabel('Frekuensi')"
      ],
      "metadata": {
        "colab": {
          "base_uri": "https://localhost:8080/",
          "height": 489
        },
        "id": "SKJmHYfjVo2f",
        "outputId": "ff3987de-569c-4511-80d7-e5b7c4bae94e"
      },
      "execution_count": null,
      "outputs": [
        {
          "output_type": "execute_result",
          "data": {
            "text/plain": [
              "Text(0, 0.5, 'Frekuensi')"
            ]
          },
          "metadata": {},
          "execution_count": 50
        },
        {
          "output_type": "display_data",
          "data": {
            "text/plain": [
              "<Figure size 640x480 with 1 Axes>"
            ],
            "image/png": "[encoded data removed]"
          },
          "metadata": {}
        }
      ]
    },
    {
      "cell_type": "markdown",
      "source": [
        "Histogram membantu kita melihat seberapa banyak pasien yang memiliki BMI di rentang tertentu, sehingga kita dapat memahami pola distribusi BMI dalam dataset."
      ],
      "metadata": {
        "id": "yP9ut1p6V1rv"
      }
    },
    {
      "cell_type": "code",
      "source": [
        "# Pengecekan Korelasi\n",
        "correlation_matrix = numeric_df.corr()\n",
        "plt.figure(figsize=(10, 8))\n",
        "sns.heatmap(correlation_matrix, annot=True, cmap='coolwarm', fmt=\".2f\")\n",
        "plt.title('Matriks Korelasi')\n",
        "plt.show()"
      ],
      "metadata": {
        "colab": {
          "base_uri": "https://localhost:8080/",
          "height": 811
        },
        "id": "wYYXkmk0VvhF",
        "outputId": "2a2f9859-a629-4738-b37f-7d59274112a8"
      },
      "execution_count": null,
      "outputs": [
        {
          "output_type": "display_data",
          "data": {
            "text/plain": [
              "<Figure size 1000x800 with 2 Axes>"
            ],
            "image/png": "[encoded data removed]"
          },
          "metadata": {}
        }
      ]
    },
    {
      "cell_type": "markdown",
      "source": [
        "Dengan heatmap, kita dapat melihat hubungan korelasi antara fitur-fitur numerik. Korelasi tinggi antara dua fitur menunjukkan bahwa ada hubungan yang kuat antara keduanya, sementara korelasi rendah menunjukkan hubungan yang lemah atau tidak ada hubungan sama sekali."
      ],
      "metadata": {
        "id": "2d4nW2ETV7QS"
      }
    },
    {
      "cell_type": "markdown",
      "source": [
        "###2.3 Kesimpulan EDA"
      ],
      "metadata": {
        "id": "U0Pne0_lWIEa"
      }
    },
    {
      "cell_type": "markdown",
      "source": [
        "\n",
        "\n",
        "*   Usia (Age): Distribusi usia pasien cenderung terpusat di sekitar nilai 40-60 tahun, dengan sebagian kecil pasien berusia di bawah 20 tahun.\n",
        "*   Tingkat Glukosa Rata-rata (Average Glucose Level): Distribusi tingkat glukosa rata-rata dalam darah terdistribusi secara normal dengan sedikit skewness ke kanan.\n",
        "BMI (Body Mass Index): Distribusi BMI pasien menunjukkan kecenderungan normal dengan sebagian besar pasien memiliki BMI di sekitar rentang 20-40.\n",
        "\n",
        "*   Korelasi Antara Fitur Numerik:\n",
        "Korelasi antara fitur numerik tampaknya cukup rendah, dengan tidak ada korelasi yang signifikan (bernilai mendekati 1 atau -1) antara fitur-fitur tersebut. Ini menunjukkan bahwa fitur-fitur tersebut mungkin berkontribusi secara independen terhadap prediksi penyakit stroke.\n",
        "*   Distribusi Fitur Target (Stroke):\n",
        "Distribusi fitur target (stroke) menunjukkan ketidakseimbangan, dengan jumlah kasus stroke yang jauh lebih sedikit daripada non-stroke. Hal ini menunjukkan perlunya penanganan ketidakseimbangan kelas saat membangun model prediksi.\n",
        "\n",
        "*   Melalui eksplorasi data ini, kita mendapatkan wawasan awal tentang karakteristik dataset, termasuk distribusi fitur numerik dan distribusi target. Selanjutnya, wawasan ini akan membantu dalam pemilihan fitur, pemrosesan data lebih lanjut, dan pengembangan model prediksi penyakit stroke.\n",
        "\n",
        "\n",
        "\n"
      ],
      "metadata": {
        "id": "jtJKbs9vWQoS"
      }
    },
    {
      "cell_type": "markdown",
      "source": [
        "##3. Data Preprocessing"
      ],
      "metadata": {
        "id": "8Lrg1BfAWtgy"
      }
    },
    {
      "cell_type": "markdown",
      "source": [
        "##3.1 Menghapus kolom yang tidak berguna / terpakai"
      ],
      "metadata": {
        "id": "xAQj9iJ2AY2m"
      }
    },
    {
      "cell_type": "code",
      "source": [
        "#Hapus Kolom 'id'\n",
        "df_processed = df.drop(columns=['id'])"
      ],
      "metadata": {
        "id": "Mk2lHja8rqcI"
      },
      "execution_count": null,
      "outputs": []
    },
    {
      "cell_type": "markdown",
      "source": [
        "##3.2 NORMALISASI"
      ],
      "metadata": {
        "id": "W72KOwlrAhVs"
      }
    },
    {
      "cell_type": "code",
      "source": [
        "from sklearn.preprocessing import LabelEncoder\n",
        "\n",
        "# Inisialisasi LabelEncoder\n",
        "label_encoder = LabelEncoder()\n",
        "\n",
        "# Normalisasi fitur kategori\n",
        "df['gender'] = label_encoder.fit_transform(df['gender'])\n",
        "df['ever_married'] = label_encoder.fit_transform(df['ever_married'])\n",
        "df['work_type'] = label_encoder.fit_transform(df['work_type'])\n",
        "df['Residence_type'] = label_encoder.fit_transform(df['Residence_type'])\n",
        "df['smoking_status'] = label_encoder.fit_transform(df['smoking_status'])\n",
        "\n",
        "# Tampilkan hasil normalisasi\n",
        "print(df.head())\n"
      ],
      "metadata": {
        "id": "Hy0-UOlhpZwD",
        "colab": {
          "base_uri": "https://localhost:8080/"
        },
        "outputId": "3dcaf9e0-5bdd-4135-c823-4905e5fb4bf3"
      },
      "execution_count": null,
      "outputs": [
        {
          "output_type": "stream",
          "name": "stdout",
          "text": [
            "      id  gender   age  hypertension  heart_disease  ever_married  work_type  \\\n",
            "0   9046       1  67.0             0              1             1          2   \n",
            "1  51676       0  61.0             0              0             1          3   \n",
            "2  31112       1  80.0             0              1             1          2   \n",
            "3  60182       0  49.0             0              0             1          2   \n",
            "4   1665       0  79.0             1              0             1          3   \n",
            "\n",
            "   Residence_type  avg_glucose_level        bmi  smoking_status  stroke  \n",
            "0               1             228.69  36.600000               1       1  \n",
            "1               0             202.21  28.893237               2       1  \n",
            "2               0             105.92  32.500000               2       1  \n",
            "3               1             171.23  34.400000               3       1  \n",
            "4               0             174.12  24.000000               2       1  \n"
          ]
        }
      ]
    },
    {
      "cell_type": "markdown",
      "source": [
        "##3.3 Melakukan Smote untuk menangani ketidakseimbangan kelas dalam dataset"
      ],
      "metadata": {
        "id": "vUTsWDScBNJt"
      }
    },
    {
      "cell_type": "code",
      "source": [
        "from imblearn.over_sampling import SMOTE\n",
        "import seaborn as sns\n",
        "import matplotlib.pyplot as plt\n",
        "X = df.loc[:, df.columns != 'stroke']\n",
        "y = df['stroke']\n",
        "\n",
        "smote = SMOTE(sampling_strategy='auto', k_neighbors=1, random_state=78)\n",
        "\n",
        "X_smote, y_smote = smote.fit_resample(X, y)\n",
        "\n",
        "df = pd.concat([pd.DataFrame(X_smote), pd.DataFrame(y_smote)], axis=1)\n",
        "\n",
        "#Menampilkan Visual bukti bahwa data sudah seimbang\n",
        "sns.countplot(x='stroke', data=df)\n",
        "plt.title('Distribusi Kelas Target')\n",
        "plt.xlabel('Stroke')\n",
        "plt.ylabel('Jumlah Sampel')\n",
        "plt.show()\n"
      ],
      "metadata": {
        "id": "9wwRpBJJtNkF",
        "outputId": "696454f0-c840-4efb-a927-4c69356f5388",
        "colab": {
          "base_uri": "https://localhost:8080/",
          "height": 472
        }
      },
      "execution_count": null,
      "outputs": [
        {
          "output_type": "display_data",
          "data": {
            "text/plain": [
              "<Figure size 640x480 with 1 Axes>"
            ],
            "image/png": "[encoded data removed]"
          },
          "metadata": {}
        }
      ]
    },
    {
      "cell_type": "code",
      "source": [
        "# Import library yang diperlukan\n",
        "from sklearn.model_selection import train_test_split\n",
        "\n",
        "# Pisahkan data menjadi fitur dan target\n",
        "X = df.drop(columns=['stroke'])\n",
        "y = df['stroke']\n",
        "\n",
        "# Cek ukuran data awal\n",
        "print(\"Ukuran data awal:\")\n",
        "print(\"Jumlah baris dan kolom:\", X.shape)\n",
        "\n",
        "# Pisahkan data menjadi data latih dan data uji\n",
        "X_train, X_test, y_train, y_test = train_test_split(X, y, test_size=0.2, random_state=42)\n",
        "\n",
        "# Cek ukuran data latih dan data uji\n",
        "print(\"\\nUkuran data latih:\")\n",
        "print(\"Jumlah baris dan kolom:\", X_train.shape)\n",
        "print(\"\\nUkuran data uji:\")\n",
        "print(\"Jumlah baris dan kolom:\", X_test.shape)\n"
      ],
      "metadata": {
        "colab": {
          "base_uri": "https://localhost:8080/"
        },
        "id": "9YEUOkFSt09w",
        "outputId": "76be9699-529c-461b-ce8e-07f1c982a382"
      },
      "execution_count": null,
      "outputs": [
        {
          "output_type": "stream",
          "name": "stdout",
          "text": [
            "Ukuran data awal:\n",
            "Jumlah baris dan kolom: (9722, 11)\n",
            "\n",
            "Ukuran data latih:\n",
            "Jumlah baris dan kolom: (7777, 11)\n",
            "\n",
            "Ukuran data uji:\n",
            "Jumlah baris dan kolom: (1945, 11)\n"
          ]
        }
      ]
    },
    {
      "cell_type": "markdown",
      "source": [
        "###3.1 Handling Missing Values (Penanganan Nilai yang Hilang)"
      ],
      "metadata": {
        "id": "tbP1nJeTXHQ_"
      }
    },
    {
      "cell_type": "code",
      "source": [
        "# # Mengganti nilai yang hilang pada kolom 'bmi' dengan nilai rata-rata\n",
        "# mean_bmi = df['bmi'].mean()\n",
        "# # df['bmi'].fillna(mean_bmi, inplace=True)\n",
        "\n",
        "# # Menghapus other pada gender\n",
        "# df.drop(df[(df['gender'] == 'Other')].index, inplace=True)"
      ],
      "metadata": {
        "id": "NP9q-E6VQ_CF"
      },
      "execution_count": null,
      "outputs": []
    },
    {
      "cell_type": "markdown",
      "source": [
        "###3.2 Encoding Categorical Features (Pengkodean Fitur Kategorikal)\n"
      ],
      "metadata": {
        "id": "6DWr6AuYXNaB"
      }
    },
    {
      "cell_type": "code",
      "source": [
        "# # Melakukan one-hot encoding pada fitur kategorikal\n",
        "# df_encoded = pd.get_dummies(df, columns=['gender', 'ever_married', 'work_type', 'Residence_type', 'smoking_status'])"
      ],
      "metadata": {
        "id": "nj5TnrQjXSuA"
      },
      "execution_count": null,
      "outputs": []
    },
    {
      "cell_type": "markdown",
      "source": [
        "###3.3 Feature Scaling (Penskalaan Fitur)"
      ],
      "metadata": {
        "id": "gurl3jaEXWlt"
      }
    },
    {
      "cell_type": "code",
      "source": [
        "# from sklearn.preprocessing import StandardScaler\n",
        "\n",
        "# # Inisialisasi penskalaan\n",
        "# scaler = StandardScaler()\n",
        "\n",
        "# # Penskalaan fitur numerik\n",
        "# scaled_features = scaler.fit_transform(df[['age', 'avg_glucose_level', 'bmi']])\n",
        "# df_scaled = pd.DataFrame(scaled_features, columns=['age', 'avg_glucose_level', 'bmi'])"
      ],
      "metadata": {
        "id": "bNDlvOLXRDvS"
      },
      "execution_count": null,
      "outputs": []
    },
    {
      "cell_type": "markdown",
      "source": [
        "###3.5 Handling Imbalanced Data (Penanganan Data yang Tidak Seimbang)"
      ],
      "metadata": {
        "id": "gbiqlzXHXloz"
      }
    },
    {
      "cell_type": "code",
      "source": [
        "# from imblearn.over_sampling import SMOTE\n",
        "# from sklearn.preprocessing import OneHotEncoder\n",
        "\n",
        "# # Inisialisasi OneHotEncoder\n",
        "# encoder = OneHotEncoder()\n",
        "\n",
        "# # Kodekan fitur-fitur kategorikal pada subset pelatihan\n",
        "# X_train_encoded = encoder.fit_transform(X_train)\n",
        "\n",
        "# # Melakukan oversampling pada subset pelatihan yang sudah dikodekan\n",
        "# smote = SMOTE(random_state=42)\n",
        "# X_train_resampled, y_train_resampled = smote.fit_resample(X_train_encoded, y_train)"
      ],
      "metadata": {
        "id": "yHlFQh4cXm3r"
      },
      "execution_count": null,
      "outputs": []
    },
    {
      "cell_type": "markdown",
      "source": [
        "###3.4 Splitting Data (Pemisahan Data)"
      ],
      "metadata": {
        "id": "fAlf5wSFXdpe"
      }
    },
    {
      "cell_type": "code",
      "source": [
        "# from sklearn.model_selection import train_test_split\n",
        "\n",
        "# # Bagi dataset menjadi training set dan test set\n",
        "# X = df.drop(columns=['stroke'])\n",
        "# y = df['stroke']\n",
        "# X_train, X_test, y_train, y_test = train_test_split(X, y, test_size=0.2, random_state=42)\n",
        "\n"
      ],
      "metadata": {
        "id": "y0BqPscyRGbR"
      },
      "execution_count": null,
      "outputs": []
    },
    {
      "cell_type": "markdown",
      "source": [
        "##4. Model Development"
      ],
      "metadata": {
        "id": "mnr_bHk0YFXR"
      }
    },
    {
      "cell_type": "code",
      "source": [
        "from sklearn.preprocessing import StandardScaler, MinMaxScaler\n",
        "# Feature Scaling\n",
        "scaler = StandardScaler()\n",
        "scaler.fit(X_train)\n",
        "\n",
        "X_train_scaled = scaler.transform(X_train)\n",
        "X_test_scaled = scaler.transform(X_test)"
      ],
      "metadata": {
        "id": "64SAwMhP0GkK"
      },
      "execution_count": null,
      "outputs": []
    },
    {
      "cell_type": "code",
      "source": [
        "# Baseline Model menggunakan Random Forest\n",
        "\n",
        "df = RandomForestClassifier()\n",
        "df.fit(X_train_scaled, y_train)"
      ],
      "metadata": {
        "id": "Pe_4zOnN0Tbh"
      },
      "execution_count": null,
      "outputs": []
    },
    {
      "cell_type": "code",
      "source": [
        "y_train.value_counts()"
      ],
      "metadata": {
        "id": "d1WQzETN0YTn"
      },
      "execution_count": null,
      "outputs": []
    },
    {
      "cell_type": "code",
      "source": [
        "from sklearn.metrics import f1_score, classification_report, ConfusionMatrixDisplay\n",
        "\n",
        "# Check Performance Model dari Train-Set\n",
        "\n",
        "y_pred_train = df.predict(X_train_scaled)\n",
        "\n",
        "print('F1 Score - Train Set  : ', f1_score(y_train, y_pred_train), '\\n')\n",
        "print('Classification Report : \\n', classification_report(y_train, y_pred_train), '\\n')\n",
        "print('Confusion Matrix      : \\n', ConfusionMatrixDisplay.from_estimator(df, X_train_scaled, y_train, cmap='Reds'))"
      ],
      "metadata": {
        "id": "0oRSMmh80b2w"
      },
      "execution_count": null,
      "outputs": []
    },
    {
      "cell_type": "code",
      "source": [
        "from sklearn.metrics import confusion_matrix\n",
        "import numpy as np\n",
        "import pandas as pd\n",
        "from sklearn.model_selection import train_test_split\n",
        "from sklearn.linear_model import LogisticRegression\n",
        "from sklearn.metrics import mean_squared_error\n",
        "\n",
        "# DataFrame dengan data\n",
        "data = {\n",
        "    'feature1': [1, 2, 3, 4, 5],\n",
        "    'feature2': [2, 4, 6, 8, 10],\n",
        "    'target': [0, 1, 0, 1, 0]  # Menggunakan target biner untuk klasifikasi\n",
        "}\n",
        "df = pd.DataFrame(data)\n",
        "\n",
        "# Pisahkan fitur dan target\n",
        "X = df[['feature1', 'feature2']]\n",
        "y = df['target']\n",
        "\n",
        "# Membagi data menjadi set pelatihan dan pengujian\n",
        "X_train, X_test, y_train, y_test = train_test_split(X, y, test_size=0.2, random_state=42)\n",
        "\n",
        "# Melatih model\n",
        "model = LogisticRegression()\n",
        "model.fit(X_train, y_train)\n",
        "\n",
        "# Prediksi pada data pelatihan\n",
        "y_pred_train = model.predict(X_train)\n",
        "\n",
        "# Menghitung confusion matrix\n",
        "tn, fp, fn, tp = confusion_matrix(y_train, y_pred_train).ravel()\n",
        "print('True Negative:', tn)\n",
        "print('False Positive:', fp)\n",
        "print('False Negative:', fn)\n",
        "print('True Positive:', tp)\n"
      ],
      "metadata": {
        "colab": {
          "base_uri": "https://localhost:8080/"
        },
        "id": "895b198f1Tbl",
        "outputId": "293e1797-cc61-4208-f5bd-6876c544dc0a"
      },
      "execution_count": null,
      "outputs": [
        {
          "output_type": "stream",
          "name": "stdout",
          "text": [
            "True Negative: 3\n",
            "False Positive: 0\n",
            "False Negative: 1\n",
            "True Positive: 0\n"
          ]
        }
      ]
    },
    {
      "cell_type": "markdown",
      "source": [
        "Di Scikit-Learn, estimator dasar untuk boosting adalah Decision Tree. Tapi, kita bisa mengubahnya ke algoritma lain."
      ],
      "metadata": {
        "id": "tk5FaYWJ1hTr"
      }
    },
    {
      "cell_type": "code",
      "source": [
        "from sklearn.ensemble import AdaBoostClassifier\n",
        "from sklearn.linear_model import LogisticRegression\n",
        "\n",
        "# Model Training - AdaBoostClassifier\n",
        "ada_clf = AdaBoostClassifier(\n",
        "    estimator= LogisticRegression(random_state=42),\n",
        "    n_estimators=50,\n",
        "    random_state=42)\n",
        "ada_clf.fit(X_train_scaled, y_train)"
      ],
      "metadata": {
        "id": "kkGdPrC21jJ3"
      },
      "execution_count": null,
      "outputs": []
    },
    {
      "cell_type": "code",
      "source": [
        "# Check Performance Model dari Train-Set\n",
        "\n",
        "y_pred_train = ada_clf.predict(X_train_scaled)\n",
        "\n",
        "print('F1 Score - Train Set  : ', f1_score(y_train, y_pred_train), '\\n')\n",
        "print('Classification Report : \\n', classification_report(y_train, y_pred_train), '\\n')\n",
        "print('Confusion Matrix      : \\n', ConfusionMatrixDisplay.from_estimator(ada_clf, X_train_scaled, y_train, cmap='Reds'))"
      ],
      "metadata": {
        "id": "SJGs9oFj12sD"
      },
      "execution_count": null,
      "outputs": []
    },
    {
      "cell_type": "code",
      "source": [],
      "metadata": {
        "id": "3xTyW2BOMa_-"
      },
      "execution_count": null,
      "outputs": []
    },
    {
      "cell_type": "markdown",
      "source": [
        "##Cross Validation"
      ],
      "metadata": {
        "id": "g1cUEZfI17Lb"
      }
    },
    {
      "cell_type": "code",
      "source": [
        "# Cross Validation menggunakan `cross_val_score`\n",
        "\n",
        "%%time\n",
        "from sklearn.model_selection import cross_val_score\n",
        "\n",
        "f1_train_cross_val = cross_val_score(df, #menggunakan random forest\n",
        "                                     X_train_scaled,\n",
        "                                     y_train,\n",
        "                                     cv=3,\n",
        "                                     scoring=\"f1\")\n",
        "\n",
        "print('F1 Score - All - Cross Validation  : ', f1_train_cross_val)\n",
        "print('F1 Score - Mean - Cross Validation : ', f1_train_cross_val.mean())\n",
        "print('F1 Score - Std - Cross Validation  : ', f1_train_cross_val.std())\n",
        "print('F1 Score - Range of Test-Set       : ', (f1_train_cross_val.mean()-f1_train_cross_val.std()) , '-', (f1_train_cross_val.mean()+f1_train_cross_val.std()))"
      ],
      "metadata": {
        "id": "syxY7NYs1-pi"
      },
      "execution_count": null,
      "outputs": []
    },
    {
      "cell_type": "code",
      "source": [
        "# Check Performance Model pada Test-Set\n",
        "\n",
        "y_pred_test = df.predict(X_test_scaled)\n",
        "\n",
        "print('F1 Score - Test Set   : ', f1_score(y_test, y_pred_test), '\\n')\n",
        "print('Classification Report : \\n', classification_report(y_test, y_pred_test), '\\n')\n",
        "print('Confusion Matrix      : \\n', ConfusionMatrixDisplay.from_estimator(df, X_test_scaled, y_test, cmap='Reds'))"
      ],
      "metadata": {
        "id": "M1gwoHS62Js5"
      },
      "execution_count": null,
      "outputs": []
    },
    {
      "cell_type": "code",
      "source": [
        "from sklearn.metrics import precision_score, recall_score, accuracy_score, f1_score\n",
        "\n",
        "# Save Classification Report kedalam Dictionary\n",
        "\n",
        "all_reports = {}\n",
        "def performance_report(all_reports, y_train, y_pred_train, y_test, y_pred_test, name):\n",
        "  score_reports = {\n",
        "      'train - precision' : precision_score(y_train, y_pred_train),\n",
        "      'train - recall' : recall_score(y_train, y_pred_train),\n",
        "      'train - accuracy' : accuracy_score(y_train, y_pred_train),\n",
        "      'train - f1_score' : f1_score(y_train, y_pred_train),\n",
        "      'test - precision' : precision_score(y_test, y_pred_test),\n",
        "      'test - recall' : recall_score(y_test, y_pred_test),\n",
        "      'test - accuracy_score' : accuracy_score(y_test, y_pred_test),\n",
        "      'test - f1_score' : f1_score(y_test, y_pred_test),\n",
        "  }\n",
        "  all_reports[name] = score_reports\n",
        "  return all_reports\n",
        "\n",
        "all_reports = performance_report(all_reports, y_train, y_pred_train,\n",
        "                                 y_test, y_pred_test, 'Baseline RF (Default Hyperparameter)')\n",
        "pd.DataFrame(all_reports)"
      ],
      "metadata": {
        "id": "lZ3FkgCd2QPB"
      },
      "execution_count": null,
      "outputs": []
    },
    {
      "cell_type": "markdown",
      "source": [
        "##AdaBoost"
      ],
      "metadata": {
        "id": "x9MMxQvW2zRD"
      }
    },
    {
      "cell_type": "code",
      "source": [
        "# Cross Validation using `cross_val_score`\n",
        "\n",
        "%%time\n",
        "f1_train_cross_val = cross_val_score(ada_clf, #menggunakan adaboost\n",
        "                                     X_train_scaled,\n",
        "                                     y_train,\n",
        "                                     cv=3,\n",
        "                                     scoring=\"f1\")\n",
        "\n",
        "print('F1 Score - All - Cross Validation  : ', f1_train_cross_val)\n",
        "print('F1 Score - Mean - Cross Validation : ', f1_train_cross_val.mean())\n",
        "print('F1 Score - Std - Cross Validation  : ', f1_train_cross_val.std())\n",
        "print('F1 Score - Range of Test-Set       : ', (f1_train_cross_val.mean()-f1_train_cross_val.std()) , '-', (f1_train_cross_val.mean()+f1_train_cross_val.std()))"
      ],
      "metadata": {
        "id": "D3l0CFkk22Wy"
      },
      "execution_count": null,
      "outputs": []
    },
    {
      "cell_type": "code",
      "source": [
        "# Check Performance Model\n",
        "y_pred_test = ada_clf.predict(X_test_scaled)\n",
        "\n",
        "print('F1 Score - Test Set   : ', f1_score(y_test, y_pred_test), '\\n')\n",
        "print('Classification Report : \\n', classification_report(y_test, y_pred_test), '\\n')\n",
        "print('Confusion Matrix      : \\n', ConfusionMatrixDisplay.from_estimator(df, X_test_scaled, y_test, cmap='Reds'))"
      ],
      "metadata": {
        "id": "tBzh-8zS3jK7"
      },
      "execution_count": null,
      "outputs": []
    },
    {
      "cell_type": "code",
      "source": [
        "# Save Classification Report into a Dictionary\n",
        "\n",
        "all_reports = performance_report(all_reports, y_train, y_pred_train,\n",
        "                                 y_test, y_pred_test, 'Baseline AdaBoost (Default Hyperparameter)')\n",
        "pd.DataFrame(all_reports)"
      ],
      "metadata": {
        "id": "ugUe7QCx3tgw"
      },
      "execution_count": null,
      "outputs": []
    },
    {
      "cell_type": "markdown",
      "source": [
        "##Hyperparameter Tuning"
      ],
      "metadata": {
        "id": "jpYkt4rE3xdv"
      }
    },
    {
      "cell_type": "markdown",
      "source": [
        "###Manual Search"
      ],
      "metadata": {
        "id": "yJ_qVGs64Z8e"
      }
    },
    {
      "cell_type": "code",
      "source": [
        "# Hyperparameter Tuning : Manual Search\n",
        "\n",
        "%%time\n",
        "\n",
        "rf_ms_1 = RandomForestClassifier(n_estimators=300,\n",
        "                                 min_samples_leaf=10,\n",
        "                                 random_state=10)\n",
        "rf_ms_1.fit(X_train_scaled, y_train)"
      ],
      "metadata": {
        "id": "vk0QkVzf329U"
      },
      "execution_count": null,
      "outputs": []
    },
    {
      "cell_type": "code",
      "source": [
        "# Check Performance Model pada Train-Set\n",
        "\n",
        "y_pred_train = rf_ms_1.predict(X_train_scaled)\n",
        "\n",
        "print('F1 Score - Train Set  : ', f1_score(y_train, y_pred_train), '\\n')\n",
        "print('Classification Report : \\n', classification_report(y_train, y_pred_train), '\\n')\n",
        "print('Confusion Matrix      : \\n', ConfusionMatrixDisplay.from_estimator(rf_ms_1, X_train_scaled, y_train, cmap='Reds'))"
      ],
      "metadata": {
        "id": "tUrZBjuy3794"
      },
      "execution_count": null,
      "outputs": []
    },
    {
      "cell_type": "code",
      "source": [
        "# Cross Validation menggunakan `cross_val_score`\n",
        "\n",
        "%%time\n",
        "f1_train_cross_val = cross_val_score(rf_ms_1,\n",
        "                                     X_train_scaled,\n",
        "                                     y_train,\n",
        "                                     cv=3,\n",
        "                                     scoring=\"f1\")\n",
        "\n",
        "print('F1 Score - All - Cross Validation  : ', f1_train_cross_val)\n",
        "print('F1 Score - Mean - Cross Validation : ', f1_train_cross_val.mean())\n",
        "print('F1 Score - Std - Cross Validation  : ', f1_train_cross_val.std())\n",
        "print('F1 Score - Range of Test-Set       : ', (f1_train_cross_val.mean()-f1_train_cross_val.std()) , '-', (f1_train_cross_val.mean()+f1_train_cross_val.std()))"
      ],
      "metadata": {
        "id": "BlfbjKOM3_ED"
      },
      "execution_count": null,
      "outputs": []
    },
    {
      "cell_type": "code",
      "source": [
        "# Check Performance Model against Test-Set\n",
        "\n",
        "y_pred_test = rf_ms_1.predict(X_test_scaled)\n",
        "\n",
        "print('F1 Score - Test Set   : ', f1_score(y_test, y_pred_test), '\\n')\n",
        "print('Classification Report : \\n', classification_report(y_test, y_pred_test), '\\n')\n",
        "print('Confusion Matrix      : \\n', ConfusionMatrixDisplay.from_estimator(rf_ms_1, X_test_scaled, y_test, cmap='Reds'))"
      ],
      "metadata": {
        "id": "x-f4epp84KEM"
      },
      "execution_count": null,
      "outputs": []
    },
    {
      "cell_type": "code",
      "source": [
        "# Save Classification Report into a Dictionary\n",
        "\n",
        "all_reports = performance_report(all_reports, y_train, y_pred_train,\n",
        "                                 y_test, y_pred_test, 'Manual Search')\n",
        "pd.DataFrame(all_reports)"
      ],
      "metadata": {
        "id": "N3_hEwEG4NQy"
      },
      "execution_count": null,
      "outputs": []
    },
    {
      "cell_type": "markdown",
      "source": [
        "###Random Search"
      ],
      "metadata": {
        "id": "oLIQ0K0U4b2s"
      }
    },
    {
      "cell_type": "code",
      "source": [
        "# Hyperparameter Tuning : Random Search\n",
        "from sklearn.model_selection import RandomizedSearchCV\n",
        "\n",
        "# Define Hyperparameters\n",
        "n_estimators = [int(x) for x in np.linspace(start=200, stop=2000, num = 5)]\n",
        "max_depth = [int(x) for x in np.linspace(10, 1000, 5)]\n",
        "min_samples_split = [2, 5, 10, 14]\n",
        "min_samples_leaf = [1, 2, 4, 6, 8]\n",
        "random_search_params = {'n_estimators': n_estimators,\n",
        "                        'max_depth':max_depth,\n",
        "                        'min_samples_split':min_samples_split,\n",
        "                        'min_samples_leaf':min_samples_leaf}\n",
        "random_search_params"
      ],
      "metadata": {
        "id": "Svj_awJt4gPI"
      },
      "execution_count": null,
      "outputs": []
    },
    {
      "cell_type": "markdown",
      "source": [
        "## NEW DATA"
      ],
      "metadata": {
        "id": "ZetZikp0NUhO"
      }
    },
    {
      "cell_type": "code",
      "source": [
        "from sklearn.model_selection import RandomizedSearchCV\n",
        "from scipy.stats import randint\n",
        "\n",
        "# Definisikan distribusi nilai untuk parameter\n",
        "param_dist = {\n",
        "    'n_estimators': randint(100, 1000),\n",
        "    'max_depth': [None, 10, 20, 30, 40, 50],\n",
        "    'min_samples_split': randint(2, 20),\n",
        "    'min_samples_leaf': randint(1, 20)\n",
        "}\n",
        "\n",
        "# Inisialisasi model\n",
        "rf = RandomForestClassifier()\n",
        "\n",
        "# Random search\n",
        "random_search = RandomizedSearchCV(estimator=rf, param_distributions=param_dist, n_iter=100, cv=5, scoring='accuracy', random_state=42)\n",
        "random_search.fit(X_train, y_train)\n",
        "\n",
        "# Hasil terbaik\n",
        "print(\"Parameter terbaik:\", random_search.best_params_)\n",
        "print(\"Skor validasi terbaik:\", random_search.best_score_)\n"
      ],
      "metadata": {
        "id": "IDQFbcMU4klH"
      },
      "execution_count": null,
      "outputs": []
    },
    {
      "cell_type": "code",
      "source": [
        "new_data = pd.DataFrame({\n",
        "    'feature1': [6, 7],\n",
        "    'feature2': [12, 14]\n",
        "})\n",
        "\n",
        "predictions = model.predict(new_data)\n",
        "print(f\"Predictions: {predictions}\")\n",
        "edictions: [1 1]"
      ],
      "metadata": {
        "colab": {
          "base_uri": "https://localhost:8080/"
        },
        "id": "coJFFAFjNMFa",
        "outputId": "334f6c9c-b91a-4398-8228-9f2eb52709ab"
      },
      "execution_count": null,
      "outputs": [
        {
          "output_type": "stream",
          "name": "stdout",
          "text": [
            "Predictions: [1 1]\n"
          ]
        }
      ]
    },
    {
      "cell_type": "markdown",
      "source": [
        "setelah semuanya sudah beres kita membuat new data yang berisikan evaluasi model yang sudah kita buat sebelumnya,dan hasilnya yang sebelumnya yang model sudah kita buat yang dapat kita terapkan pada data yang sebelumnya tidak dikenal,dan bersifat positif"
      ],
      "metadata": {
        "id": "wQYpQ441OMJS"
      }
    },
    {
      "cell_type": "markdown",
      "source": [
        "## balancing data"
      ],
      "metadata": {
        "id": "f-bM_zAmPxNO"
      }
    },
    {
      "cell_type": "code",
      "source": [
        "import pandas as pd\n",
        "\n",
        "# Contoh: Memuat dataset stroke (sesuaikan path dengan dataset yang Anda miliki)\n",
        "# Misalkan kita memiliki dataset stroke dengan kolom 'stroke' sebagai target\n",
        "# data = pd.read_csv('path_to_stroke_data.csv')\n",
        "\n",
        "# Untuk keperluan contoh, kita buat dataset dummy\n",
        "data = pd.DataFrame({\n",
        "    'feature1': [1, 2, 3, 4, 5, 6, 7, 8, 9, 10],\n",
        "    'feature2': [5, 4, 3, 2, 1, 0, 1, 2, 3, 4],\n",
        "    'stroke': [0, 0, 0, 0, 0, 0, 1, 1, 1, 1]  # Target: 0 = No Stroke, 1 = Stroke\n",
        "})\n",
        "\n",
        "# Mengecek distribusi kelas\n",
        "class_distribution = data['stroke'].value_counts()\n",
        "print(class_distribution)\n",
        "\n",
        "# Menghitung persentase distribusi\n",
        "class_percentage = data['stroke'].value_counts(normalize=True) * 100\n",
        "print(class_percentage)\n"
      ],
      "metadata": {
        "colab": {
          "base_uri": "https://localhost:8080/"
        },
        "id": "2nslJECOPryR",
        "outputId": "cb56357f-19b6-4736-ae3f-ef5d7d56126b"
      },
      "execution_count": null,
      "outputs": [
        {
          "output_type": "stream",
          "name": "stdout",
          "text": [
            "stroke\n",
            "0    6\n",
            "1    4\n",
            "Name: count, dtype: int64\n",
            "stroke\n",
            "0    60.0\n",
            "1    40.0\n",
            "Name: proportion, dtype: float64\n"
          ]
        }
      ]
    },
    {
      "cell_type": "markdown",
      "source": [
        "Dalam contoh ini, data stroke bisa dianggap cukup balanced karena kedua kelas tidak terlalu jauh berbeda dalam hal jumlah sampel."
      ],
      "metadata": {
        "id": "r-ax0pOZP7ar"
      }
    }
  ]
}